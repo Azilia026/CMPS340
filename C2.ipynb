{
 "cells": [
  {
   "cell_type": "markdown",
   "metadata": {},
   "source": [
    "# Assignment 2 Python Programming"
   ]
  },
  {
   "cell_type": "markdown",
   "metadata": {},
   "source": [
    "<p>Team Name: FOXHOUND\n",
    "<p>Student Name: Devin Ford, Anna Valdez, Derrick Poon\n",
    "<p>Student W#: 0720337, 0723894, 0748346"
   ]
  },
  {
   "cell_type": "markdown",
   "metadata": {},
   "source": [
    "## Instructions\n",
    "Use generic coding style unless hard-coded values are really necessary.<br>\n",
    "Your code must be efficient and use self-explanatory naming.<br>\n",
    "Use appropriate Python library methods for each task instead of using loops.<br>\n",
    "Run your entire code and save. Then submit this <b>saved</b> copy."
   ]
  },
  {
   "cell_type": "markdown",
   "metadata": {},
   "source": [
    "## Imports"
   ]
  },
  {
   "cell_type": "code",
   "execution_count": 1,
   "metadata": {
    "collapsed": true
   },
   "outputs": [],
   "source": [
    "import csv"
   ]
  },
  {
   "cell_type": "markdown",
   "metadata": {},
   "source": [
    "## <center> Part I </center>"
   ]
  },
  {
   "cell_type": "markdown",
   "metadata": {},
   "source": [
    "### 1) Read  student records from the file Student.csv in INPUT and store into a dictionary \"stdRec\":"
   ]
  },
  {
   "cell_type": "code",
   "execution_count": 2,
   "metadata": {},
   "outputs": [],
   "source": [
    "with open(\"INPUT/Student.csv\", 'r') as file:\n",
    "    reader = csv.DictReader(file)\n",
    "\n",
    "    rows = []\n",
    "    dictionaries = []\n",
    "\n",
    "    for i in range(len(file.readlines())):\n",
    "        rows.append(i)\n",
    "    file.seek(0)\n",
    "\n",
    "    for line in reader:\n",
    "        dictionaries.append(dict(line))\n",
    "\n",
    "    stdRec = dict(zip(rows, dictionaries))"
   ]
  },
  {
   "cell_type": "markdown",
   "metadata": {},
   "source": [
    "### 2) Store headers into a tuple \"header\":"
   ]
  },
  {
   "cell_type": "code",
   "execution_count": 3,
   "metadata": {
    "collapsed": true
   },
   "outputs": [],
   "source": [
    "with open(\"INPUT/Student.csv\") as file:\n",
    "    header = tuple(reader.fieldnames)\n"
   ]
  },
  {
   "cell_type": "markdown",
   "metadata": {},
   "source": [
    "### 3) Store data into a list \"data\":"
   ]
  },
  {
   "cell_type": "code",
   "execution_count": 4,
   "metadata": {},
   "outputs": [],
   "source": [
    "data = []\n",
    "wNumList = []\n",
    "\n",
    "for i in range(len(rows)-1):\n",
    "    if stdRec[i][str(header[0])] not in wNumList:\n",
    "        data.append(list(stdRec[i].values()))\n",
    "        wNumList.append(stdRec[i][str(header[0])])\n",
    "    else:\n",
    "        index = wNumList.index(stdRec[i][str(header[0])])\n",
    "        data[index].append(stdRec[i][str(header[3])])\n",
    "        data[index].append(stdRec[i][str(header[4])])\n",
    "        data[index].append(stdRec[i][str(header[5])])"
   ]
  },
  {
   "cell_type": "markdown",
   "metadata": {},
   "source": [
    "### 4) Ask user to enter a student number to search \"data\" for the W# and return all his/her grades for the classes taken:"
   ]
  },
  {
   "cell_type": "code",
   "execution_count": 5,
   "metadata": {
    "collapsed": true
   },
   "outputs": [
    {
     "name": "stdout",
     "output_type": "stream",
     "text": [
      "Search for person by STUDENT ID:\n",
      "Name: Solid Snake\n",
      "COURSE ID: 420\n",
      "MIDTERM: 100\n",
      "FINAL: 100\n",
      "COURSE ID: 540\n",
      "MIDTERM: 78\n",
      "FINAL: 95\n"
     ]
    }
   ],
   "source": [
    "print(f\"Search for person by {str(header[0])}:\")\n",
    "wNum = input()\n",
    "try:\n",
    "    index = wNumList.index(wNum)\n",
    "except:\n",
    "    print(\"W# not in list\")\n",
    "\n",
    "print(f\"Name: {data[index][1]} {data[index][2]}\")\n",
    "for i in range(3, len(data[index]), 3):\n",
    "    print(f\"{str(header[3])}: {data[index][i]}\\n{str(header[4])}: {data[index][i+1]}\\n{str(header[5])}: {data[index][i+2]}\")"
   ]
  },
  {
   "cell_type": "markdown",
   "metadata": {},
   "source": [
    "### 5) Write the search result into a file with a file name which is consisted of W# and extention \"csv\". The file will be stored into the folder \"RESULT\". The first line of the file will have headers:"
   ]
  },
  {
   "cell_type": "code",
   "execution_count": 6,
   "metadata": {
    "collapsed": true
   },
   "outputs": [],
   "source": [
    "\n",
    "with open(\"RESULT/\"+wNumList[index]+\".csv\", 'w') as file2:\n",
    "\n",
    "    for i in range(len(header)-1):\n",
    "        file2.write(header[i] + \",\")\n",
    "    file2.write(header[len(header)-1]+'\\n')\n",
    "\n",
    "    for i in range(3, len(data[index]),3):\n",
    "        file2.write(data[index][0] + \",\" + data[index][1] + \",\" + data[index][2] + \",\")\n",
    "        file2.write(data[index][i] + \",\" + data[index][i+1] + \",\" + data[index][i+2])\n",
    "        file2.write(\"\\n\")"
   ]
  },
  {
   "cell_type": "markdown",
   "metadata": {},
   "source": [
    "## <center> Part II </center>"
   ]
  },
  {
   "cell_type": "markdown",
   "metadata": {},
   "source": [
    "### 1) Ask user to enter two strings \"reference\" and \"pattern\":"
   ]
  },
  {
   "cell_type": "code",
   "execution_count": 38,
   "metadata": {
    "collapsed": true
   },
   "outputs": [
    {
     "name": "stdout",
     "output_type": "stream",
     "text": [
      "Enter two strings \"Reference\" and \"Pattern\"\n"
     ]
    }
   ],
   "source": [
    "print(\"Enter two strings \\\"Reference\\\" and \\\"Pattern\\\"\")\n",
    "reference = input(\"Refference: \")\n",
    "pattern = input(\"Pattern: \")"
   ]
  },
  {
   "cell_type": "markdown",
   "metadata": {},
   "source": [
    "### 2) Check if the pattern string is in the reference string. Display the result together with the input data:"
   ]
  },
  {
   "cell_type": "code",
   "execution_count": 42,
   "metadata": {
    "collapsed": true
   },
   "outputs": [
    {
     "name": "stdout",
     "output_type": "stream",
     "text": [
      "The string\n",
      "Pattern: sound\n",
      "Is not found in the string\n",
      "Reference: boom\n"
     ]
    }
   ],
   "source": [
    "if pattern in reference:\n",
    "    print(f\"The string\\nPattern: {pattern}\\nIs found in the string\\nReference: {reference}\")\n",
    "else:\n",
    "    print(f\"The string\\nPattern: {pattern}\\nIs not found in the string\\nReference: {reference}\")"
   ]
  },
  {
   "cell_type": "markdown",
   "metadata": {},
   "source": [
    "### 3) Split characters of both strings into the sets \"sRef\" and \"sPat\":"
   ]
  },
  {
   "cell_type": "code",
   "execution_count": 40,
   "metadata": {
    "collapsed": true
   },
   "outputs": [],
   "source": [
    "sRef = set()\n",
    "sPat = set()\n",
    "for i in reference:\n",
    "    sRef.add(i)\n",
    "for i in pattern:\n",
    "    sPat.add(i)"
   ]
  },
  {
   "cell_type": "markdown",
   "metadata": {},
   "source": [
    "### 4) Check if sPat is a subset of sRef. Display the result together with the input data:"
   ]
  },
  {
   "cell_type": "code",
   "execution_count": 41,
   "metadata": {
    "collapsed": true
   },
   "outputs": [
    {
     "name": "stdout",
     "output_type": "stream",
     "text": [
      "Pattern: sound\n",
      "Is not a subset of\n",
      "Reference: boom\n"
     ]
    }
   ],
   "source": [
    "if(sPat <= sRef):\n",
    "    print(f\"Pattern: {pattern}\\nIs a subset of\\nReference: {reference}\")\n",
    "else:\n",
    "    print(f\"Pattern: {pattern}\\nIs not a subset of\\nReference: {reference}\")"
   ]
  }
 ],
 "metadata": {
  "kernelspec": {
   "display_name": "Python 3",
   "language": "python",
   "name": "python3"
  },
  "language_info": {
   "codemirror_mode": {
    "name": "ipython",
    "version": 3
   },
   "file_extension": ".py",
   "mimetype": "text/x-python",
   "name": "python",
   "nbconvert_exporter": "python",
   "pygments_lexer": "ipython3",
   "version": "3.7.16"
  }
 },
 "nbformat": 4,
 "nbformat_minor": 2
}
