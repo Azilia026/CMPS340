{
 "cells": [
  {
   "cell_type": "markdown",
   "metadata": {},
   "source": [
    "# <center>Assignment-1<center>"
   ]
  },
  {
   "cell_type": "markdown",
   "metadata": {},
   "source": [
    "<p>Team Name: FOXHOUND\n",
    "<p>Student Names: Derrick Poon, Anna Valdez, Devin Ford\n",
    "<p>Student W#s: "
   ]
  },
  {
   "cell_type": "markdown",
   "metadata": {},
   "source": [
    "## Instructions\n",
    "Use generic coding style unless hard-coded values are really necessary.<br>\n",
    "Your code must be efficient and use self-explanatory naming.<br>\n",
    "Run your entire code and save. Then submit this <b>saved</b> copy."
   ]
  },
  {
   "cell_type": "markdown",
   "metadata": {},
   "source": [
    "## Imports"
   ]
  },
  {
   "cell_type": "code",
   "execution_count": null,
   "metadata": {},
   "outputs": [],
   "source": [
    "from decimal import Decimal"
   ]
  },
  {
   "cell_type": "markdown",
   "metadata": {},
   "source": [
    "# PART I"
   ]
  },
  {
   "cell_type": "markdown",
   "metadata": {},
   "source": [
    "## Format"
   ]
  },
  {
   "cell_type": "code",
   "execution_count": null,
   "metadata": {},
   "outputs": [],
   "source": [
    "A = ''#initialize your variable with a value of the data type. Remove this comment.\n",
    "print(\"id(A): \",id(A))\n",
    "\n",
    "try:\n",
    "    #at this line, write your code to modify the variable \"A\",\n",
    "    #do not 'assign' a new value to \"A\"!. See the example below.\n",
    "    #Remove this comment section and the example section below.\n",
    "    '''\n",
    "    Remove this example section before submit your work\n",
    "    Example:\n",
    "\n",
    "    A = 'str1'\n",
    "    A[0] = 'b'\n",
    "    '''\n",
    "    \n",
    "    print(type(A),\" is a mutable data type!\")\n",
    "\n",
    "except:\n",
    "    print(type(A),\" is an immutable data type!\")\n",
    "finally:\n",
    "    print(\"id(A): \",id(A))    \n",
    "#\n"
   ]
  },
  {
   "cell_type": "markdown",
   "metadata": {},
   "source": [
    "# IMMUTABLE OBJECTS"
   ]
  },
  {
   "cell_type": "markdown",
   "metadata": {},
   "source": [
    "## 1 - String"
   ]
  },
  {
   "cell_type": "code",
   "execution_count": 179,
   "metadata": {},
   "outputs": [
    {
     "name": "stdout",
     "output_type": "stream",
     "text": [
      "id(A):  2802952920752\n",
      "<class 'str'>  is an immutable data type!\n",
      "id(A):  2802952920752\n"
     ]
    }
   ],
   "source": [
    "A = 'abcd'\n",
    "print(\"id(A): \", id(A))\n",
    "\n",
    "try:\n",
    "    A[0] = 'b'\n",
    "    print(type(A),\" is a mutable data type!\")\n",
    "except:\n",
    "    print(type(A),\" is an immutable data type!\")\n",
    "finally:\n",
    "    print(\"id(A): \", id(A))\n",
    "#"
   ]
  },
  {
   "cell_type": "markdown",
   "metadata": {},
   "source": [
    "## 2 - Integer"
   ]
  },
  {
   "cell_type": "code",
   "execution_count": 178,
   "metadata": {},
   "outputs": [
    {
     "name": "stdout",
     "output_type": "stream",
     "text": [
      "id(x):  140721340331056\n",
      "id(y):  140721340331056\n",
      "<class 'int'>  is an immutable data type!\n",
      "id(x):  140721340331088\n",
      "id(y):  140721340331056\n"
     ]
    }
   ],
   "source": [
    "x = 5\n",
    "y = x\n",
    "\n",
    "print(\"id(x): \", id(x))\n",
    "print(\"id(y): \", id(y))\n",
    "\n",
    "x += 1\n",
    "\n",
    "if id(x) == id(y):\n",
    "    print(type(x), \" is a mutable data type!\")\n",
    "else:\n",
    "    print(type(x), \" is an immutable data type!\")\n",
    "    \n",
    "print(\"id(x): \", id(x))\n",
    "print(\"id(y): \", id(y))\n"
   ]
  },
  {
   "cell_type": "markdown",
   "metadata": {},
   "source": [
    "## 3 - Float"
   ]
  },
  {
   "cell_type": "code",
   "execution_count": 3,
   "metadata": {},
   "outputs": [
    {
     "name": "stdout",
     "output_type": "stream",
     "text": [
      "id(floatOne):  2175508092336\n",
      "id(floatTwo):  2175508092336\n",
      "<class 'float'>  is an immutable datatype!\n",
      "id(floatOne):  2175509187376\n",
      "id(floatTwo):  2175508092336\n"
     ]
    }
   ],
   "source": [
    "floatOne = float(-5.99)\n",
    "floatTwo = floatOne\n",
    "\n",
    "print(\"id(floatOne): \", id(floatOne))\n",
    "print(\"id(floatTwo): \", id(floatTwo))\n",
    "\n",
    "floatOne += 1\n",
    "\n",
    "if id(floatOne) == id(floatTwo):\n",
    "    print(type(floatOne), \" is a mutable data type!\")\n",
    "else:\n",
    "    print(type(floatOne), \" is an immutable data type!\")\n",
    "    \n",
    "print(\"id(floatOne): \", id(floatOne))\n",
    "print(\"id(floatTwo): \", id(floatTwo))"
   ]
  },
  {
   "cell_type": "markdown",
   "metadata": {},
   "source": [
    "## 4 - Bool"
   ]
  },
  {
   "cell_type": "code",
   "execution_count": 177,
   "metadata": {},
   "outputs": [
    {
     "name": "stdout",
     "output_type": "stream",
     "text": [
      "id(tF):  140721339808080\n",
      "id(tF2):  140721339808080\n",
      "<class 'bool'> is an immutable data type!\n",
      "id(tF):  140721339808112\n",
      "id(tF2):  140721339808080\n"
     ]
    }
   ],
   "source": [
    "tF = True\n",
    "tF2 = tF\n",
    "\n",
    "print(\"id(tF): \", id(tF))\n",
    "print(\"id(tF2): \", id(tF2))\n",
    "\n",
    "tF = False\n",
    "\n",
    "if id(tF) == id(tF2):\n",
    "    print(type(tF), \" is a mutable data type!\")\n",
    "else:\n",
    "    print(type(tF2), \"is an immutable data type!\")\n",
    "\n",
    "print(\"id(tF): \", id(tF))\n",
    "print(\"id(tF2): \", id(tF2))\n",
    "    "
   ]
  },
  {
   "cell_type": "markdown",
   "metadata": {},
   "source": [
    "## 5 - Tuple"
   ]
  },
  {
   "cell_type": "code",
   "execution_count": 173,
   "metadata": {},
   "outputs": [
    {
     "name": "stdout",
     "output_type": "stream",
     "text": [
      "id(myTup):  2802923381928\n",
      "<class 'tuple'>  is an immutable data type!\n",
      "id(myTup):  2802923381928\n"
     ]
    }
   ],
   "source": [
    "myTup = (20, 'a', 45, \"Carly\")\n",
    "print(\"id(myTup): \", id(myTup))\n",
    "\n",
    "try:\n",
    "    myTup[0] = 3\n",
    "    print(type(myTup), \" is a mutable data type!\")\n",
    "except:\n",
    "    print(type(myTup), \" is an immutable data type!\")\n",
    "finally:\n",
    "    print(\"id(myTup): \", id(myTup))"
   ]
  },
  {
   "cell_type": "markdown",
   "metadata": {},
   "source": [
    "## 6 - Frozenset"
   ]
  },
  {
   "cell_type": "code",
   "execution_count": 2,
   "metadata": {},
   "outputs": [
    {
     "name": "stdout",
     "output_type": "stream",
     "text": [
      "id(myFrozen):  2813627909736\n",
      "id(myFrozen):  2813627908616\n",
      "<class 'frozenset'>  is an immutable data type!\n"
     ]
    }
   ],
   "source": [
    "myFrozen = frozenset({1,2,3,4})\n",
    "originalId = id(myFrozen)\n",
    "print(\"id(myFrozen): \", originalId)\n",
    "\n",
    "myFrozen |= frozenset({5,6,7})\n",
    "newId = id(myFrozen)\n",
    "print(\"id(myFrozen): \", newId)\n",
    "\n",
    "if originalId == newId:\n",
    "    print(type(myFrozen), \" is a mutable data type!\")\n",
    "else:\n",
    "    print(type(myFrozen), \" is an immutable data type!\")\n",
    "\n"
   ]
  },
  {
   "cell_type": "markdown",
   "metadata": {},
   "source": [
    "## 7 - Complex"
   ]
  },
  {
   "cell_type": "code",
   "execution_count": 93,
   "metadata": {},
   "outputs": [
    {
     "name": "stdout",
     "output_type": "stream",
     "text": [
      "id(myCmplx):  2802922034448\n",
      "id(myCmplx2):  2802922034448\n",
      "<class 'complex'>  is an immutable data type!\n",
      "id(myCmplx):  2802922035728\n",
      "id(myCmplx2):  2802922034448\n"
     ]
    }
   ],
   "source": [
    "myCmplx = complex(1)\n",
    "myCmplx2 = myCmplx\n",
    "\n",
    "print(\"id(myCmplx): \", id(myCmplx))\n",
    "print(\"id(myCmplx2): \", id(myCmplx2))\n",
    "\n",
    "myCmplx = complex(24)\n",
    "\n",
    "if id(myCmplx) == id(myCmplx2):\n",
    "    print(type(myCmplx), \" is a mutable data type!\")\n",
    "else:\n",
    "    print(type(myCmplx), \" is an immutable data type!\")\n",
    "\n",
    "print(\"id(myCmplx): \", id(myCmplx))\n",
    "print(\"id(myCmplx2): \", id(myCmplx2))\n"
   ]
  },
  {
   "cell_type": "markdown",
   "metadata": {},
   "source": [
    "## 8 - Byte"
   ]
  },
  {
   "cell_type": "code",
   "execution_count": 168,
   "metadata": {},
   "outputs": [
    {
     "name": "stdout",
     "output_type": "stream",
     "text": [
      "id(myBite):  2802923235968\n",
      "<class 'bytes'>  is an immutable data type!\n",
      "id(myBite):  2802923235968\n"
     ]
    }
   ],
   "source": [
    "myBite = bytes(\"Bird\", \"utf8\")\n",
    "print(\"id(myBite): \", id(myBite))\n",
    "\n",
    "try:\n",
    "    myBite[0] = 3\n",
    "    print(type(myBite), \" is a mutable data type!\")\n",
    "except:\n",
    "    print(type(myBite), \" is an immutable data type!\")\n",
    "finally:\n",
    "    print(\"id(myBite): \", id(myBite))"
   ]
  },
  {
   "cell_type": "markdown",
   "metadata": {},
   "source": [
    "## 9 - Decimal"
   ]
  },
  {
   "cell_type": "code",
   "execution_count": 101,
   "metadata": {},
   "outputs": [
    {
     "name": "stdout",
     "output_type": "stream",
     "text": [
      "id(myDec):  2802952356112\n",
      "id(myDec2):  2802952356112\n",
      "<class 'decimal.Decimal'>  is an immutable data type!\n",
      "id(myDec):  2802952359136\n",
      "id(myDec2):  2802952356112\n"
     ]
    }
   ],
   "source": [
    "myDec = Decimal(3.14)\n",
    "myDec2 = myDec\n",
    "\n",
    "print(\"id(myDec): \", id(myDec))\n",
    "print(\"id(myDec2): \", id(myDec2))\n",
    "\n",
    "myDec = Decimal(.999)\n",
    "\n",
    "if id(myDec) == id(myDec2):\n",
    "    print(type(myDec), \" is a mutable data type!\")\n",
    "else:\n",
    "    print(type(myDec), \" is an immutable data type!\")\n",
    "\n",
    "print(\"id(myDec): \", id(myDec))\n",
    "print(\"id(myDec2): \", id(myDec2))"
   ]
  },
  {
   "cell_type": "markdown",
   "metadata": {},
   "source": [
    "## 10 - NoneType"
   ]
  },
  {
   "cell_type": "code",
   "execution_count": 123,
   "metadata": {},
   "outputs": [
    {
     "name": "stdout",
     "output_type": "stream",
     "text": [
      "id(myVar):  140721339854048\n",
      "<class 'NoneType'>  is an immutable data type!\n",
      "id(myVar):  140721339854048\n"
     ]
    }
   ],
   "source": [
    "myVar = None\n",
    "print(\"id(myVar): \", id(myVar))\n",
    "\n",
    "try:\n",
    "    myVar += 1\n",
    "    print(type(myVar), \" is a mutable data type!\")\n",
    "except:\n",
    "    print(type(myVar), \" is an immutable data type!\")\n",
    "finally:\n",
    "    print(\"id(myVar): \", id(myVar))"
   ]
  },
  {
   "cell_type": "markdown",
   "metadata": {},
   "source": [
    "# MUTABLE OBJECTS"
   ]
  },
  {
   "cell_type": "markdown",
   "metadata": {},
   "source": [
    "## 1 - List"
   ]
  },
  {
   "cell_type": "code",
   "execution_count": 129,
   "metadata": {
    "scrolled": true
   },
   "outputs": [
    {
     "name": "stdout",
     "output_type": "stream",
     "text": [
      "id(aLst):  2802922057096\n",
      "<class 'list'>  is a mutable data type!\n",
      "id(aLst):  2802922057096\n"
     ]
    }
   ],
   "source": [
    "aLst = ['a','b','c','d']\n",
    "print(\"id(aLst): \",id(aLst))\n",
    "try:\n",
    "    aLst[0] = 'A'\n",
    "    print(type(aLst), \" is a mutable data type!\")\n",
    "except:\n",
    "    print(type(aLst), \" is an immutable data type!\")\n",
    "finally:\n",
    "    print(\"id(aLst): \",id(aLst))\n",
    "#"
   ]
  },
  {
   "cell_type": "markdown",
   "metadata": {},
   "source": [
    "## 2 - Set"
   ]
  },
  {
   "cell_type": "code",
   "execution_count": 1,
   "metadata": {},
   "outputs": [
    {
     "name": "stdout",
     "output_type": "stream",
     "text": [
      "id(mySet):  1868360226184\n",
      "<class 'set'>  is a mutable data type!\n",
      "id(mySet):  1868360226184\n"
     ]
    }
   ],
   "source": [
    "mySet = {1,2,3,4}\n",
    "print(\"id(mySet): \", id(mySet))\n",
    "\n",
    "try:\n",
    "    mySet |= {5,6,7}\n",
    "    print(type(mySet), \" is a mutable data type!\")\n",
    "except:\n",
    "    print(type(mySet), \" is an immutable data type!\")\n",
    "finally:\n",
    "    print(\"id(mySet): \",id(mySet))"
   ]
  },
  {
   "cell_type": "markdown",
   "metadata": {},
   "source": [
    "## 3 - Dictionary"
   ]
  },
  {
   "cell_type": "code",
   "execution_count": 132,
   "metadata": {},
   "outputs": [
    {
     "name": "stdout",
     "output_type": "stream",
     "text": [
      "id(dictionary):  2802953058648\n",
      "<class 'dict'>  is a mutable data type!\n",
      "id(dictionary):  2802953058648\n"
     ]
    }
   ],
   "source": [
    "dictionary = {\"blood type\":\"a\", \"height\":175, \"weight\":2000}\n",
    "print(\"id(dictionary): \", id(dictionary))\n",
    "\n",
    "try:\n",
    "    dictionary[\"blood type\"] = \"o\"\n",
    "    print(type(dictionary), \" is a mutable data type!\")\n",
    "except:\n",
    "    print(type(dictionary), \" is an immutable data type!\")\n",
    "finally:\n",
    "    print(\"id(dictionary): \", id(dictionary))"
   ]
  },
  {
   "cell_type": "markdown",
   "metadata": {},
   "source": [
    "## 4 - Bytearray"
   ]
  },
  {
   "cell_type": "code",
   "execution_count": 167,
   "metadata": {},
   "outputs": [
    {
     "name": "stdout",
     "output_type": "stream",
     "text": [
      "id(myBiteArr):  2802953205616\n",
      "<class 'bytearray'>  is a mutable data type!\n",
      "id(myBiteArr):  2802953205616\n"
     ]
    }
   ],
   "source": [
    "myBiteArr = bytearray(\"Bird\", \"utf8\")\n",
    "print(\"id(myBiteArr): \", id(myBiteArr))\n",
    "\n",
    "try:\n",
    "    myBiteArr[0] = 2\n",
    "    print(type(myBiteArr), \" is a mutable data type!\")\n",
    "except:\n",
    "    print(type(myBiteArr), \" is an immutable data type!\")\n",
    "finally:\n",
    "    print(\"id(myBiteArr): \", id(myBiteArr))\n"
   ]
  },
  {
   "cell_type": "markdown",
   "metadata": {},
   "source": [
    "## 5 - Memoryview"
   ]
  },
  {
   "cell_type": "code",
   "execution_count": 3,
   "metadata": {},
   "outputs": [
    {
     "name": "stdout",
     "output_type": "stream",
     "text": [
      "id(myMem):  2343597521608\n",
      "<class 'memoryview'>  is a mutable data type!\n",
      "id(myMem):  2343597521608\n"
     ]
    }
   ],
   "source": [
    "myMem = memoryview(bytearray(\"Bird\", \"utf8\"))\n",
    "print(\"id(myMem): \", id(myMem))\n",
    "\n",
    "try:\n",
    "    myMem[0] = 2\n",
    "    print(type(myMem), \" is a mutable data type!\")\n",
    "except:\n",
    "    print(type(myMem), \" is an immutable data type!\")\n",
    "finally:\n",
    "    print(\"id(myMem): \", id(myMem))\n"
   ]
  }
 ],
 "metadata": {
  "kernelspec": {
   "display_name": "Python 3 (ipykernel)",
   "language": "python",
   "name": "python3"
  },
  "language_info": {
   "codemirror_mode": {
    "name": "ipython",
    "version": 3
   },
   "file_extension": ".py",
   "mimetype": "text/x-python",
   "name": "python",
   "nbconvert_exporter": "python",
   "pygments_lexer": "ipython3",
   "version": "3.7.16"
  }
 },
 "nbformat": 4,
 "nbformat_minor": 2
}
