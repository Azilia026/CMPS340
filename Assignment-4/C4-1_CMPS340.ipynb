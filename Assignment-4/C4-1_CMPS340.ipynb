{
 "cells": [
  {
   "cell_type": "markdown",
   "metadata": {},
   "source": [
    "# <center>CHALLENGE 4.1<center>"
   ]
  },
  {
   "cell_type": "markdown",
   "metadata": {},
   "source": [
    "<p>Team Name: FOXHOUND\n",
    "<p>Student Names: Devin Ford, Derrick Poon, Anna Valdez\n",
    "<p>Student W#s: "
   ]
  },
  {
   "cell_type": "markdown",
   "metadata": {},
   "source": [
    "## Instructions\n",
    "Use <b>generic</b> coding style unless hard-coded values are really necessary.<br>\n",
    "Your code must be efficient and use self-explanatory naming.<br>\n",
    "Use appropriate Python library methods for each task instead of using loops.<br>\n",
    "Run your entire code and save <b>BEFORE</b> submitting. Then, submit this <b>saved</b> copy."
   ]
  },
  {
   "cell_type": "markdown",
   "metadata": {},
   "source": [
    "## Definitions"
   ]
  },
  {
   "cell_type": "markdown",
   "metadata": {},
   "source": [
    "AGE_12   : Passengers with age in \\[1, 13)<br>\n",
    "AGE_TEEN : Passengers with age in \\[13, 20)<br>\n",
    "AGE_YOUNG: Passengers with age in \\[20, 31)<br>\n",
    "AGE_OTHER: Passengers with age >= 31"
   ]
  },
  {
   "cell_type": "markdown",
   "metadata": {
    "collapsed": true
   },
   "source": [
    "## Imports"
   ]
  },
  {
   "cell_type": "code",
   "execution_count": 2,
   "metadata": {
    "collapsed": true
   },
   "outputs": [],
   "source": [
    "import pandas as pd\n",
    "import os"
   ]
  },
  {
   "cell_type": "markdown",
   "metadata": {},
   "source": [
    "## Loading Data"
   ]
  },
  {
   "cell_type": "markdown",
   "metadata": {
    "collapsed": true
   },
   "source": [
    "Load \"titanic.csv\" into the data frame object \"data\"</br>\n",
    "[train.csv](https://github.com/wesm/pydata-book/blob/2nd-edition/datasets/titanic/train.csv)"
   ]
  },
  {
   "cell_type": "code",
   "execution_count": 3,
   "metadata": {
    "collapsed": true
   },
   "outputs": [
    {
     "name": "stdout",
     "output_type": "stream",
     "text": [
      "     PassengerId  Survived  Pclass  \\\n",
      "0              1         0       3   \n",
      "1              2         1       1   \n",
      "2              3         1       3   \n",
      "3              4         1       1   \n",
      "4              5         0       3   \n",
      "..           ...       ...     ...   \n",
      "886          887         0       2   \n",
      "887          888         1       1   \n",
      "888          889         0       3   \n",
      "889          890         1       1   \n",
      "890          891         0       3   \n",
      "\n",
      "                                                  Name     Sex   Age  SibSp  \\\n",
      "0                              Braund, Mr. Owen Harris    male  22.0      1   \n",
      "1    Cumings, Mrs. John Bradley (Florence Briggs Th...  female  38.0      1   \n",
      "2                               Heikkinen, Miss. Laina  female  26.0      0   \n",
      "3         Futrelle, Mrs. Jacques Heath (Lily May Peel)  female  35.0      1   \n",
      "4                             Allen, Mr. William Henry    male  35.0      0   \n",
      "..                                                 ...     ...   ...    ...   \n",
      "886                              Montvila, Rev. Juozas    male  27.0      0   \n",
      "887                       Graham, Miss. Margaret Edith  female  19.0      0   \n",
      "888           Johnston, Miss. Catherine Helen \"Carrie\"  female   NaN      1   \n",
      "889                              Behr, Mr. Karl Howell    male  26.0      0   \n",
      "890                                Dooley, Mr. Patrick    male  32.0      0   \n",
      "\n",
      "     Parch            Ticket     Fare Cabin Embarked  \n",
      "0        0         A/5 21171   7.2500   NaN        S  \n",
      "1        0          PC 17599  71.2833   C85        C  \n",
      "2        0  STON/O2. 3101282   7.9250   NaN        S  \n",
      "3        0            113803  53.1000  C123        S  \n",
      "4        0            373450   8.0500   NaN        S  \n",
      "..     ...               ...      ...   ...      ...  \n",
      "886      0            211536  13.0000   NaN        S  \n",
      "887      0            112053  30.0000   B42        S  \n",
      "888      2        W./C. 6607  23.4500   NaN        S  \n",
      "889      0            111369  30.0000  C148        C  \n",
      "890      0            370376   7.7500   NaN        Q  \n",
      "\n",
      "[891 rows x 12 columns]\n"
     ]
    }
   ],
   "source": [
    "data = pd.read_csv(\"train.csv\")\n",
    "print(data)"
   ]
  },
  {
   "cell_type": "markdown",
   "metadata": {},
   "source": [
    "## Calculate Counts"
   ]
  },
  {
   "cell_type": "markdown",
   "metadata": {},
   "source": [
    "Calculate joint counts for each {Survived_i, Age_j}, i = {Yes, No}, j = {_12, _Teen, _Young, _Other}:"
   ]
  },
  {
   "cell_type": "code",
   "execution_count": 4,
   "metadata": {
    "collapsed": true
   },
   "outputs": [
    {
     "name": "stdout",
     "output_type": "stream",
     "text": [
      "Count     Age_12  Age_Teen  Age_Young  Age_Other  Total\n",
      "Survived                                               \n",
      "1             30        40         92        116    278\n",
      "0             27        68        157        170    422\n",
      "Total         57       108        249        286    700\n"
     ]
    }
   ],
   "source": [
    "ageHeader = ['Age_12', 'Age_Teen', 'Age_Young', 'Age_Other']\n",
    "ageSeparator = [1, 13, 20, 31, 200]\n",
    "\n",
    "data['AgeGroup'] = pd.cut(data['Age'], bins=ageSeparator, labels=ageHeader)\n",
    "\n",
    "survivalAgeJointCounts = pd.crosstab(index=data['Survived'], columns=data['AgeGroup'], margins=True, margins_name='TOTAL')\n",
    "survivalAgeJointCounts = survivalAgeJointCounts.iloc[[1, 0, 2]]\n",
    "survivalAgeJointCounts.columns.name = 'Count'\n",
    "\n",
    "print(survivalAgeJointCounts)"
   ]
  },
  {
   "cell_type": "markdown",
   "metadata": {},
   "source": [
    "Calculate marginal counts for survive categories:"
   ]
  },
  {
   "cell_type": "code",
   "execution_count": 5,
   "metadata": {
    "collapsed": true
   },
   "outputs": [
    {
     "name": "stdout",
     "output_type": "stream",
     "text": [
      "Survived\n",
      "1    278\n",
      "0    422\n",
      "Name: Total, dtype: int64\n"
     ]
    }
   ],
   "source": [
    "print(survivalAgeJointCounts.iloc[:2, 4])"
   ]
  },
  {
   "cell_type": "markdown",
   "metadata": {},
   "source": [
    "Calculate marginal counts for age categories:"
   ]
  },
  {
   "cell_type": "code",
   "execution_count": 6,
   "metadata": {
    "collapsed": true
   },
   "outputs": [
    {
     "name": "stdout",
     "output_type": "stream",
     "text": [
      "Count\n",
      "Age_12        57\n",
      "Age_Teen     108\n",
      "Age_Young    249\n",
      "Age_Other    286\n",
      "Name: Total, dtype: int64\n"
     ]
    }
   ],
   "source": [
    "print(survivalAgeJointCounts.iloc[2, :4])"
   ]
  },
  {
   "cell_type": "markdown",
   "metadata": {},
   "source": [
    "Calculate total count of samples:"
   ]
  },
  {
   "cell_type": "code",
   "execution_count": 7,
   "metadata": {
    "collapsed": true
   },
   "outputs": [
    {
     "name": "stdout",
     "output_type": "stream",
     "text": [
      "700\n"
     ]
    }
   ],
   "source": [
    "print(survivalAgeJointCounts.iloc[-1, -1])"
   ]
  },
  {
   "cell_type": "markdown",
   "metadata": {
    "collapsed": true
   },
   "source": [
    "Store all of the counts calculated above into the data frame \"Count\"<br>\n",
    ".    Column headers: Age categories and TOTAL<br>\n",
    ".    Row headers: survive categories, TOTAL<br>\n",
    "Print the object Count's content:"
   ]
  },
  {
   "cell_type": "code",
   "execution_count": 8,
   "metadata": {
    "collapsed": true
   },
   "outputs": [
    {
     "name": "stdout",
     "output_type": "stream",
     "text": [
      "Count     Age_12  Age_Teen  Age_Young  Age_Other  Total\n",
      "Survived                                               \n",
      "1             30        40         92        116    278\n",
      "0             27        68        157        170    422\n",
      "Total         57       108        249        286    700\n"
     ]
    }
   ],
   "source": [
    "Count = survivalAgeJointCounts\n",
    "print(Count)"
   ]
  },
  {
   "cell_type": "markdown",
   "metadata": {},
   "source": [
    "Save Counts into the text file \"Count.csv\" under the folder \"OUTPUT\".<br>\n",
    ".    Column headers: Age categories and TOTAL<br>\n",
    ".    Row headers: survive categories, TOTAL:"
   ]
  },
  {
   "cell_type": "code",
   "execution_count": 9,
   "metadata": {
    "collapsed": true
   },
   "outputs": [],
   "source": [
    "survivalAgeJointCounts.to_csv(\"Count.csv\")"
   ]
  },
  {
   "cell_type": "markdown",
   "metadata": {},
   "source": [
    "## Calculate Probabilities"
   ]
  },
  {
   "cell_type": "markdown",
   "metadata": {},
   "source": [
    "Generate the Probability Table T2- P() as described. Store into the data frame object \"P\". Print the object's content:"
   ]
  },
  {
   "cell_type": "code",
   "execution_count": 13,
   "metadata": {
    "collapsed": true
   },
   "outputs": [
    {
     "name": "stdout",
     "output_type": "stream",
     "text": [
      "Probability    Age_12  Age_Teen  Age_Young  Age_Other     Total\n",
      "Survived                                                       \n",
      "1            0.042857  0.057143   0.131429   0.165714  0.397143\n",
      "0            0.038571  0.097143   0.224286   0.242857  0.602857\n",
      "Total        0.081429  0.154286   0.355714   0.408571  1.000000\n"
     ]
    }
   ],
   "source": [
    "P= survivalAgeJointCounts.divide(survivalAgeJointCounts.iloc[-1, -1])\n",
    "P.columns.name = \"Probability\"\n",
    "print(P)"
   ]
  },
  {
   "cell_type": "markdown",
   "metadata": {},
   "source": [
    "Generate the Probability Table T3_1- P(Survive | Age) as described. Store into the data frame object \"P_SgA\". Print the object's content:"
   ]
  },
  {
   "cell_type": "code",
   "execution_count": 14,
   "metadata": {
    "collapsed": true
   },
   "outputs": [
    {
     "name": "stdout",
     "output_type": "stream",
     "text": [
      "T3_1        Age_12  Age_Teen  Age_Young  Age_Other\n",
      "Survived                                          \n",
      "1         0.526316   0.37037   0.369478   0.405594\n",
      "0         0.473684   0.62963   0.630522   0.594406\n",
      "Total     1.000000   1.00000   1.000000   1.000000\n"
     ]
    }
   ],
   "source": [
    "P_SgA = P.divide(P.iloc[-1, :5])\n",
    "P_SgA = P_SgA.drop(columns='TOTAL')\n",
    "P_SgA.columns.name = \"T3_1\"\n",
    "print(P_SgA)"
   ]
  },
  {
   "cell_type": "markdown",
   "metadata": {},
   "source": [
    "Generate the Probability Table T3_2- P(Survive | Age) P(Age) as described. Store into the data frame object \"P_SgA_A\". Print the object's content:"
   ]
  },
  {
   "cell_type": "code",
   "execution_count": 15,
   "metadata": {
    "collapsed": true
   },
   "outputs": [
    {
     "name": "stdout",
     "output_type": "stream",
     "text": [
      "T3_2        Age_12  Age_Teen  Age_Young  Age_Other\n",
      "Survived                                          \n",
      "1         0.042857  0.057143   0.131429   0.165714\n",
      "0         0.038571  0.097143   0.224286   0.242857\n",
      "Total     0.081429  0.154286   0.355714   0.408571\n"
     ]
    }
   ],
   "source": [
    "P_SgA_A = P_SgA.multiply(P.iloc[-1, :4])\n",
    "P_SgA_A.columns.name = \"T3_2\"\n",
    "print(P_SgA_A)"
   ]
  },
  {
   "cell_type": "markdown",
   "metadata": {},
   "source": [
    "Generate the Probability Table T4_1- P(Age | Survive) as described. Store into the data frame object \"P_AgS\". Print the object's content:"
   ]
  },
  {
   "cell_type": "code",
   "execution_count": 22,
   "metadata": {
    "collapsed": true
   },
   "outputs": [
    {
     "name": "stdout",
     "output_type": "stream",
     "text": [
      "T4_1        Age_12  Age_Teen  Age_Young  Age_Other  Total\n",
      "Survived                                                 \n",
      "1         0.107914  0.143885   0.330935   0.417266    1.0\n",
      "0         0.063981  0.161137   0.372038   0.402844    1.0\n"
     ]
    }
   ],
   "source": [
    "P_AgS = P.divide(P.iloc[:3, -1], axis='rows')\n",
    "P_AgS = P_AgS.drop(labels='TOTAL')\n",
    "P_AgS.columns.name = \"T4_1\"\n",
    "print(P_AgS)"
   ]
  },
  {
   "cell_type": "markdown",
   "metadata": {},
   "source": [
    "Generate the Probability Table T4_2- P(Age | Survive) P(Survive) as described. Store into the data frame object \"P_AgS_S\". Print the object's content:"
   ]
  },
  {
   "cell_type": "code",
   "execution_count": 23,
   "metadata": {
    "collapsed": true
   },
   "outputs": [
    {
     "name": "stdout",
     "output_type": "stream",
     "text": [
      "T4_2        Age_12  Age_Teen  Age_Young  Age_Other     Total\n",
      "Survived                                                    \n",
      "1         0.042857  0.057143   0.131429   0.165714  0.397143\n",
      "0         0.038571  0.097143   0.224286   0.242857  0.602857\n"
     ]
    }
   ],
   "source": [
    "P_AgS_S = P_AgS.multiply(P.iloc[:2, -1], axis='index')\n",
    "P_AgS_S.columns.name = \"T4_2\"\n",
    "print(P_AgS_S)"
   ]
  },
  {
   "cell_type": "markdown",
   "metadata": {
    "collapsed": true
   },
   "source": [
    "## Compare"
   ]
  },
  {
   "cell_type": "markdown",
   "metadata": {},
   "source": [
    "Compare the row TOTAL of T3_1- P(Survive | Age) with the row TOTAL of T2- P(). Explain:"
   ]
  },
  {
   "cell_type": "code",
   "execution_count": null,
   "metadata": {
    "collapsed": true
   },
   "outputs": [],
   "source": [
    "# the T2-P() row TOTAL represents the probability of the different age groups,\n",
    "# the T3_1 row TOTAL represents the probability of either surviving or not surviving"
   ]
  },
  {
   "cell_type": "markdown",
   "metadata": {},
   "source": [
    "Compare the row TOTAL of T3_2- P(Survive | Age) P(Age) with the row TOTAL of T2- P(). Explain:"
   ]
  },
  {
   "cell_type": "code",
   "execution_count": null,
   "metadata": {
    "collapsed": true
   },
   "outputs": [],
   "source": [
    "# the values of row TOTAL of both tables will match because P(Survive, Age) = P(Survive | Age) * P(Age)\n",
    "# respectively with P(notSurvive, Age) = P(notSurvive | Age) * P(Age)"
   ]
  },
  {
   "cell_type": "markdown",
   "metadata": {},
   "source": [
    "Compare the column TOTAL of T4_1- P(Age | Survive) with the column TOTAL of T2- P(). Explain:"
   ]
  },
  {
   "cell_type": "code",
   "execution_count": null,
   "metadata": {
    "collapsed": true
   },
   "outputs": [],
   "source": [
    "# Column TOTAL of T4_1 is total probability of all the age groups given that they survived or not survived,\n",
    "# column TOTAL of T2 is the probability of surviving or not surviving"
   ]
  },
  {
   "cell_type": "markdown",
   "metadata": {},
   "source": [
    "Compare the column TOTAL of T4_2- P(Age | Survive) P(Survive) with the column TOTAL of T2- P(). Explain:"
   ]
  },
  {
   "cell_type": "code",
   "execution_count": null,
   "metadata": {
    "collapsed": true
   },
   "outputs": [],
   "source": [
    "# The values of column TOTAL of both tables will match because P(Survive, Age ) = P(Age | Survive) * P(Survive),\n",
    "# respectively with P(notSurvive, Age) = P(Age | notSurvive) * P(notSurvive)"
   ]
  },
  {
   "cell_type": "markdown",
   "metadata": {
    "collapsed": true
   },
   "source": [
    "## <center> REFERENCES </center>\n",
    "List resources (book, internet page, etc.) that you used to complete this challenge."
   ]
  },
  {
   "cell_type": "markdown",
   "metadata": {},
   "source": []
  }
 ],
 "metadata": {
  "kernelspec": {
   "display_name": "Python 3",
   "language": "python",
   "name": "python3"
  },
  "language_info": {
   "codemirror_mode": {
    "name": "ipython",
    "version": 3
   },
   "file_extension": ".py",
   "mimetype": "text/x-python",
   "name": "python",
   "nbconvert_exporter": "python",
   "pygments_lexer": "ipython3",
   "version": "3.7.16"
  }
 },
 "nbformat": 4,
 "nbformat_minor": 2
}
